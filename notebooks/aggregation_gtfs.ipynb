{
  "nbformat": 4,
  "nbformat_minor": 0,
  "metadata": {
    "colab": {
      "provenance": [],
      "authorship_tag": "ABX9TyP1FM39XPNt0I3eEO5RNcWF",
      "include_colab_link": true
    },
    "kernelspec": {
      "name": "python3",
      "display_name": "Python 3"
    },
    "language_info": {
      "name": "python"
    }
  },
  "cells": [
    {
      "cell_type": "markdown",
      "metadata": {
        "id": "view-in-github",
        "colab_type": "text"
      },
      "source": [
        "<a href=\"https://colab.research.google.com/github/Ahsan97Javed/gtfs-batch-pipeline/blob/main/aggregation_gtfs.ipynb\" target=\"_parent\"><img src=\"https://colab.research.google.com/assets/colab-badge.svg\" alt=\"Open In Colab\"/></a>"
      ]
    },
    {
      "cell_type": "markdown",
      "source": [
        "# GTFS Batch Processing Pipeline — Aggregation Microservice\n",
        "\n",
        "## 1. Mount Google Drive & Set Paths\n"
      ],
      "metadata": {
        "id": "iee2szTKC7Ce"
      }
    },
    {
      "cell_type": "code",
      "execution_count": 1,
      "metadata": {
        "colab": {
          "base_uri": "https://localhost:8080/"
        },
        "id": "ShM0CINiCrzr",
        "outputId": "95b19756-155c-46b9-d4ff-a938954a4a09"
      },
      "outputs": [
        {
          "output_type": "stream",
          "name": "stdout",
          "text": [
            "Mounted at /content/drive\n"
          ]
        }
      ],
      "source": [
        "from google.colab import drive\n",
        "import os\n",
        "import pandas as pd\n",
        "import numpy as np\n",
        "\n",
        "drive.mount('/content/drive')\n",
        "\n",
        "cleaned_path = '/content/drive/My Drive/GTFS_CLEANED'\n",
        "agg_path = '/content/drive/My Drive/GTFS_AGGREGATED'\n",
        "os.makedirs(agg_path, exist_ok=True)\n"
      ]
    },
    {
      "cell_type": "markdown",
      "source": [
        "## 2. Load Cleaned GTFS Files\n"
      ],
      "metadata": {
        "id": "bw8H5sw9DBV6"
      }
    },
    {
      "cell_type": "code",
      "source": [
        "files = os.listdir(cleaned_path)\n",
        "dfs = {}\n",
        "for fname in files:\n",
        "    if fname.endswith('.txt'):\n",
        "        fpath = os.path.join(cleaned_path, fname)\n",
        "        df = pd.read_csv(fpath, dtype=str)\n",
        "        dfs[fname] = df\n",
        "        print(f\"Loaded {fname}, shape: {df.shape}\")\n"
      ],
      "metadata": {
        "colab": {
          "base_uri": "https://localhost:8080/"
        },
        "id": "tc9D9KISC_nY",
        "outputId": "8cc8102d-aa25-4e64-eacb-35bf5a17da7b"
      },
      "execution_count": 2,
      "outputs": [
        {
          "output_type": "stream",
          "name": "stdout",
          "text": [
            "Loaded calendar.txt, shape: (5553, 10)\n",
            "Loaded feed_info.txt, shape: (1, 8)\n",
            "Loaded stops.txt, shape: (677435, 6)\n",
            "Loaded routes.txt, shape: (25081, 5)\n",
            "Loaded calendar_dates.txt, shape: (13229, 3)\n",
            "Loaded agency.txt, shape: (451, 5)\n",
            "Loaded trips.txt, shape: (1618937, 3)\n",
            "Loaded attributions.txt, shape: (3, 8)\n",
            "Loaded stop_times.txt, shape: (32966240, 7)\n"
          ]
        }
      ]
    },
    {
      "cell_type": "markdown",
      "source": [
        "## 3. Aggregation 1: Total Number of Trips per Route\n"
      ],
      "metadata": {
        "id": "7SNnh1mODIvh"
      }
    },
    {
      "cell_type": "code",
      "source": [
        "# Join trips and routes to get trip count per route\n",
        "trips = dfs.get('trips.txt')\n",
        "routes = dfs.get('routes.txt')\n",
        "if trips is not None and routes is not None:\n",
        "    trip_counts = trips.groupby('route_id').size().reset_index(name='trip_count')\n",
        "    trip_counts = trip_counts.merge(routes[['route_id', 'route_short_name']], on='route_id', how='left')\n",
        "    trip_counts = trip_counts.sort_values(by='trip_count', ascending=False)\n",
        "    trip_counts.to_csv(os.path.join(agg_path, 'trip_counts_per_route.csv'), index=False)\n",
        "    print(\"Saved: trip_counts_per_route.csv\")\n",
        "    print(trip_counts.head())\n"
      ],
      "metadata": {
        "colab": {
          "base_uri": "https://localhost:8080/"
        },
        "id": "Cs8Q1lYADFkA",
        "outputId": "bde678df-96ba-435f-a269-b72f0cab4c4a"
      },
      "execution_count": 3,
      "outputs": [
        {
          "output_type": "stream",
          "name": "stdout",
          "text": [
            "Saved: trip_counts_per_route.csv\n",
            "      route_id  trip_count route_short_name\n",
            "9071     18162        2617               U5\n",
            "21067     6386        2454               M8\n",
            "23353     8443        2329              AST\n",
            "15975    24376        2133              302\n",
            "833      10748        2054               18\n"
          ]
        }
      ]
    },
    {
      "cell_type": "markdown",
      "source": [
        "## 4. Aggregation 2: Most Popular Stops (by stop_times usage)\n"
      ],
      "metadata": {
        "id": "FDnoxhetDO7j"
      }
    },
    {
      "cell_type": "code",
      "source": [
        "stop_times = dfs.get('stop_times.txt')\n",
        "stops = dfs.get('stops.txt')\n",
        "if stop_times is not None and stops is not None:\n",
        "    stop_usage = stop_times.groupby('stop_id').size().reset_index(name='num_stop_times')\n",
        "    stop_usage = stop_usage.merge(stops[['stop_id', 'stop_name']], on='stop_id', how='left')\n",
        "    stop_usage = stop_usage.sort_values(by='num_stop_times', ascending=False)\n",
        "    stop_usage.to_csv(os.path.join(agg_path, 'popular_stops.csv'), index=False)\n",
        "    print(\"Saved: popular_stops.csv\")\n",
        "    print(stop_usage.head())\n"
      ],
      "metadata": {
        "colab": {
          "base_uri": "https://localhost:8080/"
        },
        "id": "cmtBwiQwDQ19",
        "outputId": "29788e69-d710-4ec6-93ac-69efc0dab4ee"
      },
      "execution_count": 4,
      "outputs": [
        {
          "output_type": "stream",
          "name": "stdout",
          "text": [
            "Saved: popular_stops.csv\n",
            "       stop_id  num_stop_times             stop_name\n",
            "51137   172476            6624    Hamburg Bf. Altona\n",
            "204417  390511            5623            Hertzallee\n",
            "245861  449492            4515  F Willy-Brandt-Platz\n",
            "107210  252245            3906    F Eschenheimer Tor\n",
            "53371   175628            3906     F Schweizer Platz\n"
          ]
        }
      ]
    },
    {
      "cell_type": "markdown",
      "source": [
        "## 5. Aggregation 3: Trips Per Day of Week (Service Availability)\n"
      ],
      "metadata": {
        "id": "uMreT2heDSWu"
      }
    },
    {
      "cell_type": "code",
      "source": [
        "calendar = dfs.get('calendar.txt')\n",
        "if trips is not None and calendar is not None:\n",
        "    trips_cal = trips.merge(calendar, on='service_id', how='left')\n",
        "    days = ['monday','tuesday','wednesday','thursday','friday','saturday','sunday']\n",
        "    day_counts = {day: trips_cal[trips_cal[day]=='1'].shape[0] for day in days}\n",
        "    day_counts_df = pd.DataFrame(list(day_counts.items()), columns=['day_of_week', 'num_trips'])\n",
        "    day_counts_df.to_csv(os.path.join(agg_path, 'trips_per_day.csv'), index=False)\n",
        "    print(\"Saved: trips_per_day.csv\")\n",
        "    print(day_counts_df)\n"
      ],
      "metadata": {
        "colab": {
          "base_uri": "https://localhost:8080/"
        },
        "id": "iuVczBsUDWO3",
        "outputId": "a9f94a11-d18a-46ca-9943-7f97f1c6e49a"
      },
      "execution_count": 5,
      "outputs": [
        {
          "output_type": "stream",
          "name": "stdout",
          "text": [
            "Saved: trips_per_day.csv\n",
            "  day_of_week  num_trips\n",
            "0      monday     982723\n",
            "1     tuesday     984563\n",
            "2   wednesday     969625\n",
            "3    thursday     929649\n",
            "4      friday     965953\n",
            "5    saturday     563394\n",
            "6      sunday     420810\n"
          ]
        }
      ]
    },
    {
      "cell_type": "markdown",
      "source": [
        "## 6. Aggregation 4: Average Number of Stops Per Trip\n"
      ],
      "metadata": {
        "id": "8NL7QVv3DXKz"
      }
    },
    {
      "cell_type": "code",
      "source": [
        "if stop_times is not None:\n",
        "    stops_per_trip = stop_times.groupby('trip_id').size()\n",
        "    avg_stops_per_trip = stops_per_trip.mean()\n",
        "    print(f\"Average stops per trip: {avg_stops_per_trip:.2f}\")\n",
        "    with open(os.path.join(agg_path, 'avg_stops_per_trip.txt'), 'w') as f:\n",
        "        f.write(f\"Average stops per trip: {avg_stops_per_trip:.2f}\")\n"
      ],
      "metadata": {
        "colab": {
          "base_uri": "https://localhost:8080/"
        },
        "id": "qhiVz0UDDYzH",
        "outputId": "6ff484d6-e37f-4059-c042-cd9841e6365c"
      },
      "execution_count": 6,
      "outputs": [
        {
          "output_type": "stream",
          "name": "stdout",
          "text": [
            "Average stops per trip: 20.36\n"
          ]
        }
      ]
    },
    {
      "cell_type": "markdown",
      "source": [
        "## 7. Any Custom Analysis: E.g., Top Agencies by Number of Routes\n"
      ],
      "metadata": {
        "id": "jatCBxGrDdUn"
      }
    },
    {
      "cell_type": "code",
      "source": [
        "agency = dfs.get('agency.txt')\n",
        "if routes is not None and agency is not None:\n",
        "    agency_route_counts = routes.groupby('agency_id').size().reset_index(name='num_routes')\n",
        "    agency_route_counts = agency_route_counts.merge(agency[['agency_id', 'agency_name']], on='agency_id', how='left')\n",
        "    agency_route_counts = agency_route_counts.sort_values(by='num_routes', ascending=False)\n",
        "    agency_route_counts.to_csv(os.path.join(agg_path, 'routes_per_agency.csv'), index=False)\n",
        "    print(\"Saved: routes_per_agency.csv\")\n",
        "    print(agency_route_counts.head())\n"
      ],
      "metadata": {
        "colab": {
          "base_uri": "https://localhost:8080/"
        },
        "id": "dLmeEotMDfv7",
        "outputId": "552861cf-5e00-43f5-a255-408c2d7f05fb"
      },
      "execution_count": 7,
      "outputs": [
        {
          "output_type": "stream",
          "name": "stdout",
          "text": [
            "Saved: routes_per_agency.csv\n",
            "    agency_id  num_routes                   agency_name\n",
            "288       359        1006  Verkehrsverbund Rhein-Neckar\n",
            "418         7         814     Hamburger Verkehrsverbund\n",
            "105       194         804                       VGM/VRL\n",
            "182       263         700     Verkehrsverbund Stuttgart\n",
            "190       270         614   Verkehrsverbund Rhein-Mosel\n"
          ]
        }
      ]
    }
  ]
}
