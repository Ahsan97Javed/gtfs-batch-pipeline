# Install papermill if needed
!pip install papermill --quiet

import papermill as pm
import os

notebook_dir = '/content/drive/My Drive/GTFS_Notebooks'  # Update path as needed

notebooks = [
    'ingestion_gtfs.ipynb',
    'preprocessing_gtfs.ipynb',
    'aggregation_gtfs.ipynb',
    'output_gtfs.ipynb'
]

for nb in notebooks:
    input_path = os.path.join(notebook_dir, nb)
    output_path = os.path.join(notebook_dir, f'output_{nb}')
    print(f"Running {nb} ...")
    pm.execute_notebook(input_path, output_path)
    print(f"Completed {nb}")

print("All pipeline steps completed!")
