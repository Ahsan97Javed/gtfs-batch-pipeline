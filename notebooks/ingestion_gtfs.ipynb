{
  "nbformat": 4,
  "nbformat_minor": 0,
  "metadata": {
    "colab": {
      "provenance": [],
      "authorship_tag": "ABX9TyMDqfodT9XmwejQ8URI0/Xr",
      "include_colab_link": true
    },
    "kernelspec": {
      "name": "python3",
      "display_name": "Python 3"
    },
    "language_info": {
      "name": "python"
    }
  },
  "cells": [
    {
      "cell_type": "markdown",
      "metadata": {
        "id": "view-in-github",
        "colab_type": "text"
      },
      "source": [
        "<a href=\"https://colab.research.google.com/github/Ahsan97Javed/gtfs-batch-pipeline/blob/main/ingestion_gtfs.ipynb\" target=\"_parent\"><img src=\"https://colab.research.google.com/assets/colab-badge.svg\" alt=\"Open In Colab\"/></a>"
      ]
    },
    {
      "cell_type": "markdown",
      "source": [
        "# GTFS Batch Processing Pipeline — Ingestion Microservice\n",
        "\n",
        "## 1. Mount Google Drive"
      ],
      "metadata": {
        "id": "VsNSKRuQ5Oe3"
      }
    },
    {
      "cell_type": "code",
      "execution_count": 5,
      "metadata": {
        "colab": {
          "base_uri": "https://localhost:8080/"
        },
        "id": "gUtumY7m47fp",
        "outputId": "6a8fb489-5345-4b99-86bb-d29110b01385"
      },
      "outputs": [
        {
          "output_type": "stream",
          "name": "stdout",
          "text": [
            "Mounted at /content/drive\n"
          ]
        }
      ],
      "source": [
        "from google.colab import drive\n",
        "drive.mount('/content/drive')"
      ]
    },
    {
      "cell_type": "markdown",
      "source": [
        "## 2. List Available GTFS Files\n"
      ],
      "metadata": {
        "id": "sHSsh3ea5tYu"
      }
    },
    {
      "cell_type": "code",
      "source": [
        "import os\n",
        "\n",
        "raw_data_path = '/content/drive/My Drive/GTFS_RAW'\n",
        "files = os.listdir(raw_data_path)\n",
        "print(\"GTFS files found:\", files)\n"
      ],
      "metadata": {
        "colab": {
          "base_uri": "https://localhost:8080/"
        },
        "id": "phq_sB8F5Er0",
        "outputId": "9e298ac6-e6be-4ca0-9065-aaacfe283f0b"
      },
      "execution_count": 6,
      "outputs": [
        {
          "output_type": "stream",
          "name": "stdout",
          "text": [
            "GTFS files found: ['calendar.txt', 'feed_info.txt', 'stops.txt', 'routes.txt', 'calendar_dates.txt', 'agency.txt', 'trips.txt', 'attributions.txt', 'stop_times.txt']\n"
          ]
        }
      ]
    },
    {
      "cell_type": "markdown",
      "source": [
        "## 3. Read and Preview GTFS Tables\n"
      ],
      "metadata": {
        "id": "7rO2UMam52Xf"
      }
    },
    {
      "cell_type": "code",
      "source": [
        "import pandas as pd\n",
        "\n",
        "dfs = {}\n",
        "for fname in files:\n",
        "    if fname.endswith('.txt'):\n",
        "        fpath = os.path.join(raw_data_path, fname)\n",
        "        df = pd.read_csv(fpath)\n",
        "        print(f\"\\nPreview of {fname}:\")\n",
        "        print(df.head())\n",
        "        dfs[fname] = df\n"
      ],
      "metadata": {
        "colab": {
          "base_uri": "https://localhost:8080/"
        },
        "id": "P5sib0Is516n",
        "outputId": "f9f0dd48-1acf-4682-e79d-f6bc282066bd"
      },
      "execution_count": 9,
      "outputs": [
        {
          "output_type": "stream",
          "name": "stdout",
          "text": [
            "\n",
            "Preview of calendar.txt:\n",
            "   monday  tuesday  wednesday  thursday  friday  saturday  sunday  start_date  \\\n",
            "0       0        0          0         0       0         0       1    20250615   \n",
            "1       0        0          0         0       0         0       1    20250615   \n",
            "2       0        0          0         0       0         0       1    20250615   \n",
            "3       0        0          0         0       0         0       1    20250615   \n",
            "4       0        0          0         0       0         0       1    20250615   \n",
            "\n",
            "   end_date  service_id  \n",
            "0  20250622        1692  \n",
            "1  20250622        2322  \n",
            "2  20250622        2631  \n",
            "3  20250622        2738  \n",
            "4  20250622        4936  \n",
            "\n",
            "Preview of feed_info.txt:\n",
            "                                 feed_publisher_name feed_publisher_url  \\\n",
            "0  gtfs.de - GTFS für Deutschland, Daten bereitge...     http://gtfs.de   \n",
            "\n",
            "  feed_lang feed_version feed_contact_email feed_contact_url  \n",
            "0        de  latest-free       info@gtfs.de  https://gtfs.de  \n",
            "\n",
            "Preview of stops.txt:\n",
            "                     stop_name  parent_station  stop_id  stop_lat  stop_lon  \\\n",
            "0  's-Heerenberg Gouden Handen             NaN   509793  51.87225  6.247338   \n",
            "1  's-Heerenberg Gouden Handen        509793.0   204683  51.87228  6.247406   \n",
            "2     's-Heerenberg Molenpoort             NaN   583140  51.87632  6.247432   \n",
            "3     's-Heerenberg Molenpoort        583140.0   581322  51.87632  6.247432   \n",
            "4   's-Heerenberg Muziekschool             NaN    72055  51.87479  6.254206   \n",
            "\n",
            "   location_type  \n",
            "0            1.0  \n",
            "1            NaN  \n",
            "2            1.0  \n",
            "3            NaN  \n",
            "4            1.0  \n",
            "\n",
            "Preview of routes.txt:\n",
            "   route_long_name route_short_name  agency_id  route_type  route_id\n",
            "0              NaN                0        332           0      3448\n",
            "1              NaN              000         55           3     23410\n",
            "2              NaN              001        187           3     22789\n",
            "3              NaN              001         55           3      2915\n",
            "4              NaN              001         83           3     24602\n",
            "\n",
            "Preview of calendar_dates.txt:\n",
            "   service_id  exception_type      date\n",
            "0           1               1  20250627\n",
            "1          10               1  20250627\n",
            "2          10               1  20250702\n",
            "3          10               1  20250707\n",
            "4          10               1  20250712\n",
            "\n",
            "Preview of agency.txt:\n",
            "   agency_id                       agency_name           agency_url  \\\n",
            "0          1            Stadtverkehr Straubing  https://www.bahn.de   \n",
            "1         10                     RheinRuhrBahn  https://www.bahn.de   \n",
            "2        100                    Landkreis Cham  https://www.bahn.de   \n",
            "3        101             Stadtwerke Neumünster  https://www.bahn.de   \n",
            "4        102  DB Regio AG Mitte Region Südwest  https://www.bahn.de   \n",
            "\n",
            "  agency_timezone agency_lang  \n",
            "0   Europe/Berlin          de  \n",
            "1   Europe/Berlin          de  \n",
            "2   Europe/Berlin          de  \n",
            "3   Europe/Berlin          de  \n",
            "4   Europe/Berlin          de  \n",
            "\n",
            "Preview of trips.txt:\n",
            "   route_id  service_id  trip_id\n",
            "0         1        1103  1038606\n",
            "1         1        1103  1123111\n",
            "2         1        1103  1137677\n",
            "3         1        1103  1194635\n",
            "4         1        1103  1328203\n",
            "\n",
            "Preview of attributions.txt:\n",
            "   attribution_id           organization_name  is_producer  \\\n",
            "0               1                   DELFI e.V          1.0   \n",
            "1               2                     GTFS.de          1.0   \n",
            "2               3  OpenStreetMap contributors          NaN   \n",
            "\n",
            "             attribution_url attribution_email  \n",
            "0       https://www.delfi.de               NaN  \n",
            "1       https://wwww.gtfs.de      info@gtfs.de  \n",
            "2  https://openstreetmap.org               NaN  \n",
            "\n",
            "Preview of stop_times.txt:\n",
            "   trip_id arrival_time departure_time  stop_id  stop_sequence  pickup_type  \\\n",
            "0   100283     11:46:00       11:46:00    75547              0          NaN   \n",
            "1   100283     11:47:00       11:47:00   470997              1          NaN   \n",
            "2   100283     11:48:00       11:48:00   114368              2          NaN   \n",
            "3   100283     11:49:00       11:49:00   262034              3          NaN   \n",
            "4   100283     11:51:00       11:51:00   654234              4          NaN   \n",
            "\n",
            "   drop_off_type  \n",
            "0            NaN  \n",
            "1            NaN  \n",
            "2            NaN  \n",
            "3            NaN  \n",
            "4            NaN  \n"
          ]
        }
      ]
    },
    {
      "cell_type": "markdown",
      "source": [
        "## 4. Validate File Structure"
      ],
      "metadata": {
        "id": "L-6tYuOF6HZV"
      }
    },
    {
      "cell_type": "code",
      "source": [
        "# Expected columns for all standard GTFS tables\n",
        "expected_columns = {\n",
        "    'calendar.txt': ['service_id', 'monday', 'tuesday', 'wednesday', 'thursday', 'friday', 'saturday', 'sunday', 'start_date', 'end_date'],\n",
        "    'feed_info.txt': ['feed_publisher_name', 'feed_publisher_url', 'feed_lang', 'feed_start_date', 'feed_end_date', 'feed_version', 'feed_contact_email', 'feed_contact_url'],\n",
        "    'stops.txt': ['stop_id', 'stop_name', 'parent_station', 'stop_lat', 'stop_lon', 'location_type'],\n",
        "    'routes.txt': ['route_id', 'route_short_name', 'agency_id', 'route_type'],\n",
        "    'calendar_dates.txt': ['service_id', 'date', 'exception_type'],\n",
        "    'agency.txt': ['agency_id', 'agency_name', 'agency_url', 'agency_timezone', 'agency_lang'],\n",
        "    'trips.txt': ['route_id', 'service_id', 'trip_id'],\n",
        "    'attributions.txt': ['attribution_id', 'organization_name', 'is_producer', 'is_operator', 'is_authority', 'attribution_url', 'attribution_email', 'attribution_phone'],\n",
        "    'stop_times.txt': ['trip_id', 'arrival_time', 'departure_time', 'stop_id', 'stop_sequence', 'pickup_type', 'drop_off_type']\n",
        "}\n",
        "\n",
        "# Validate columns and print missing/extras\n",
        "for fname, expected in expected_columns.items():\n",
        "    if fname in dfs:\n",
        "        actual = set(dfs[fname].columns)\n",
        "        missing = set(expected) - actual\n",
        "        extra = actual - set(expected)\n",
        "        print(f\"\\nVALIDATION for {fname}:\")\n",
        "        print(\" - Missing columns:\", missing)\n",
        "        print(\" - Extra columns:\", extra)\n",
        "        if missing:\n",
        "            print(f\"WARNING: {fname} is missing columns {missing}\")\n",
        "        if extra:\n",
        "            print(f\"NOTE: {fname} has extra columns {extra}\")\n",
        "\n",
        " # Add missing columns as empty for schema consistency\n",
        "        for col in missing:\n",
        "            dfs[fname][col] = pd.NA\n",
        "        if missing:\n",
        "            print(f\"Added missing columns as empty for {fname} (columns added for schema consistency).\")"
      ],
      "metadata": {
        "colab": {
          "base_uri": "https://localhost:8080/"
        },
        "id": "Q2-_kA0J5zXy",
        "outputId": "e4a94b71-f90e-4717-c457-f7c6843b63d3"
      },
      "execution_count": 11,
      "outputs": [
        {
          "output_type": "stream",
          "name": "stdout",
          "text": [
            "\n",
            "VALIDATION for calendar.txt:\n",
            " - Missing columns: set()\n",
            " - Extra columns: set()\n",
            "\n",
            "VALIDATION for feed_info.txt:\n",
            " - Missing columns: {'feed_start_date', 'feed_end_date'}\n",
            " - Extra columns: set()\n",
            "WARNING: feed_info.txt is missing columns {'feed_start_date', 'feed_end_date'}\n",
            "Added missing columns as empty for feed_info.txt (columns added for schema consistency).\n",
            "\n",
            "VALIDATION for stops.txt:\n",
            " - Missing columns: set()\n",
            " - Extra columns: set()\n",
            "\n",
            "VALIDATION for routes.txt:\n",
            " - Missing columns: set()\n",
            " - Extra columns: {'route_long_name'}\n",
            "NOTE: routes.txt has extra columns {'route_long_name'}\n",
            "\n",
            "VALIDATION for calendar_dates.txt:\n",
            " - Missing columns: set()\n",
            " - Extra columns: set()\n",
            "\n",
            "VALIDATION for agency.txt:\n",
            " - Missing columns: set()\n",
            " - Extra columns: set()\n",
            "\n",
            "VALIDATION for trips.txt:\n",
            " - Missing columns: set()\n",
            " - Extra columns: set()\n",
            "\n",
            "VALIDATION for attributions.txt:\n",
            " - Missing columns: {'is_operator', 'attribution_phone', 'is_authority'}\n",
            " - Extra columns: set()\n",
            "WARNING: attributions.txt is missing columns {'is_operator', 'attribution_phone', 'is_authority'}\n",
            "Added missing columns as empty for attributions.txt (columns added for schema consistency).\n",
            "\n",
            "VALIDATION for stop_times.txt:\n",
            " - Missing columns: set()\n",
            " - Extra columns: set()\n"
          ]
        }
      ]
    },
    {
      "cell_type": "markdown",
      "source": [
        "## 5. Save Validated Data\n",
        "- Save to a new Drive folder `/My Drive/GTFS_VALIDATED/`\n"
      ],
      "metadata": {
        "id": "S8y8ZwA38lRp"
      }
    },
    {
      "cell_type": "code",
      "source": [
        "validated_path = '/content/drive/My Drive/GTFS_VALIDATED'\n",
        "os.makedirs(validated_path, exist_ok=True)\n",
        "\n",
        "for fname, df in dfs.items():\n",
        "    # filter for only validated files if desired\n",
        "    df.to_csv(os.path.join(validated_path, fname), index=False)\n",
        "print(\"Validated files saved.\")\n"
      ],
      "metadata": {
        "colab": {
          "base_uri": "https://localhost:8080/"
        },
        "id": "CxcfBqWZ7Riy",
        "outputId": "86a6ed69-c521-44a8-c1fe-66accd6dfbbb"
      },
      "execution_count": 12,
      "outputs": [
        {
          "output_type": "stream",
          "name": "stdout",
          "text": [
            "Validated files saved.\n"
          ]
        }
      ]
    },
    {
      "cell_type": "code",
      "source": [],
      "metadata": {
        "id": "0koM_29A8oX1"
      },
      "execution_count": null,
      "outputs": []
    }
  ]
}
